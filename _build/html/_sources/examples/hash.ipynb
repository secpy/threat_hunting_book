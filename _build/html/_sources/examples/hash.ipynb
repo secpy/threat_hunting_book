{
  "cells": [
    {
      "cell_type": "markdown",
      "source": [
        "# Нечеткое хеширование на Python"
      ],
      "metadata": {
        "id": "lsmvPyp-xyY3"
      }
    },
    {
      "cell_type": "markdown",
      "metadata": {
        "id": "0j-K78moxrXN"
      },
      "source": [
        "Сравнение подозрительного файла с ранее проанализированными образцами или образцами, хранящимися в публичном либо частном хранилище, может дать представление о семействе вредоносных программ, их характеристиках и сходстве с предварительно проанализированными образцами.\n",
        "\n",
        "Хотя криптографические хеш-функции (MD5/SHA1/SHA256) являются отличным методом для обнаружения идентичных образцов, они не помогают в идентификации схожих образцов. Очень часто авторы вредоносных программ меняют мелкие аспекты вредоносных программ, что полностью меняет значение хеш-функции. "
      ]
    },
    {
      "cell_type": "markdown",
      "metadata": {
        "id": "83OG_GADxrXP"
      },
      "source": [
        "Нечеткое хеширование – отличный способ сравнить файлы на схожесть. \n",
        "\n",
        "[Ssdeep](https://ssdeep-project.github.io/ssdeep/) – полезный инструмент для создания нечеткого хеша для образца, и он также помогает в определении процентного сходства между\n",
        "образцами. Этот метод полезен при сравнении подозрительного файла с образцами из хранилища для идентификации похожих. Это может помочь определить образцы, принадлежащие к одному семейству вредоносных программ или к одной и той же группе субъектов."
      ]
    },
    {
      "cell_type": "markdown",
      "source": [
        "Исходные файлы для блокнота находятся по [ссылке](https://github.com/dm-fedorov/infosec/tree/master/re-tools/samples)."
      ],
      "metadata": {
        "id": "fSFztXdx43EF"
      }
    },
    {
      "cell_type": "markdown",
      "source": [
        "Скачиваем весь архив с файлами для работы в Colab:"
      ],
      "metadata": {
        "id": "cicdv1HA4521"
      }
    },
    {
      "cell_type": "code",
      "source": [
        "!wget https://dfedorov.spb.ru/infosec/re/samples.zip"
      ],
      "metadata": {
        "id": "LII3BhiC477m"
      },
      "execution_count": null,
      "outputs": []
    },
    {
      "cell_type": "code",
      "source": [
        "!unzip samples.zip"
      ],
      "metadata": {
        "id": "12MNZtsO5X_i"
      },
      "execution_count": null,
      "outputs": []
    },
    {
      "cell_type": "code",
      "execution_count": null,
      "metadata": {
        "id": "FnN9SsfxxrXU"
      },
      "outputs": [],
      "source": [
        "!apt-get -y install libfuzzy-dev"
      ]
    },
    {
      "cell_type": "code",
      "source": [
        "!apt-get install ssdeep"
      ],
      "metadata": {
        "id": "cPXWkgkX5I0Y"
      },
      "execution_count": null,
      "outputs": []
    },
    {
      "cell_type": "code",
      "source": [
        "!pip install ssdeep"
      ],
      "metadata": {
        "id": "73WZnYTT5KTj"
      },
      "execution_count": null,
      "outputs": []
    },
    {
      "cell_type": "markdown",
      "metadata": {
        "id": "6u92IrRlxrXW"
      },
      "source": [
        "Чтобы определить нечеткий хеш образца, выполните следующую команду:"
      ]
    },
    {
      "cell_type": "code",
      "execution_count": null,
      "metadata": {
        "id": "D4cN0c-VxrXX",
        "outputId": "b24aca0d-f189-4658-db7b-6c481d14766f",
        "colab": {
          "base_uri": "https://localhost:8080/"
        }
      },
      "outputs": [
        {
          "output_type": "stream",
          "name": "stdout",
          "text": [
            "ssdeep,1.1--blocksize:hash:hash,filename\n",
            "96:RZTmB6WBilMGIlZIpMRiUHsTgZ6uQ7fTuB3eoBqSitrqN:RZioWQMZMpLfgZ8+4osSi,\"/content/samples/test\"\n"
          ]
        }
      ],
      "source": [
        "!ssdeep samples/test"
      ]
    },
    {
      "cell_type": "markdown",
      "metadata": {
        "id": "5iTDzAqBxrXY"
      },
      "source": [
        "Чтобы продемонстрировать использование нечеткого хеширования, рассмотрим в качестве примера директорию, состоящую из трех образцов вредоносного ПО. \n",
        "\n",
        "В следующем фрагменте кода видно, что все три файла имеют совершенно разные значения хеш-функций MD5:"
      ]
    },
    {
      "cell_type": "code",
      "execution_count": null,
      "metadata": {
        "id": "pxo35yE4xrXZ",
        "outputId": "3b2e9362-2eba-4578-de8f-8cf9552c8f11",
        "colab": {
          "base_uri": "https://localhost:8080/"
        }
      },
      "outputs": [
        {
          "output_type": "stream",
          "name": "stdout",
          "text": [
            "all_hashes.txt\tmain_02.c  Makefile    test\ttest_02  v_01.txt\n",
            "main_01.c\tmain_03.c  task-1.exe  test_01\ttest_03\n"
          ]
        }
      ],
      "source": [
        "!ls samples"
      ]
    },
    {
      "cell_type": "code",
      "execution_count": null,
      "metadata": {
        "id": "CBUQgMyWxrXa",
        "outputId": "50e4abe7-fed0-47be-e8e6-7fdc76b46d39",
        "colab": {
          "base_uri": "https://localhost:8080/"
        }
      },
      "outputs": [
        {
          "output_type": "stream",
          "name": "stdout",
          "text": [
            "273c2647cbbff0e05ad8d7a2ab988723  samples/all_hashes.txt\n",
            "9cc4604b8bb026dbab1d72b17f9c5446  samples/main_01.c\n",
            "e08e52b2653e222df3ef3270326b7524  samples/main_02.c\n",
            "1022987df6fbc4684f5d7cec491b459f  samples/main_03.c\n",
            "5ceae4f28514b491641684cc1f8c5079  samples/Makefile\n",
            "a82a243ff5dbf90677c64eae4f0b6a8e  samples/task-1.exe\n",
            "309d0bfa200e4a936157379357cdbf66  samples/test\n",
            "7c2c629a6b03a1db0ad5f168c29317a3  samples/test_01\n",
            "f8da20d939b7f10d2de94c22cf28f7dd  samples/test_02\n",
            "aca771dc841b399b8dfb66fcdaae130d  samples/test_03\n",
            "46877a90e977f2562bc3a22a47e67dec  samples/v_01.txt\n"
          ]
        }
      ],
      "source": [
        "!md5sum samples/*"
      ]
    },
    {
      "cell_type": "markdown",
      "metadata": {
        "id": "-KsNeobExrXd"
      },
      "source": [
        "Режим *изящного сравнения* (опция ```-p```) в ```ssdeep``` может использоваться для определения процентного сходства. Из трех образцов два имеют сходство 93%, что предполагает, что они, вероятно, принадлежат к одному и тому же семейству вредоносных программ:"
      ]
    },
    {
      "cell_type": "code",
      "execution_count": null,
      "metadata": {
        "id": "l90PhveExrXe",
        "outputId": "1a20a559-f5d2-4258-f2fe-a288adb1034e",
        "colab": {
          "base_uri": "https://localhost:8080/"
        }
      },
      "outputs": [
        {
          "output_type": "stream",
          "name": "stdout",
          "text": [
            "test_02 matches test_03 (93)\n",
            "\n",
            "test_03 matches test_02 (93)\n",
            "\n"
          ]
        }
      ],
      "source": [
        "!ssdeep -pb samples/test_01 samples/test_02 samples/test_03"
      ]
    },
    {
      "cell_type": "markdown",
      "metadata": {
        "id": "S75QjpZBxrXg"
      },
      "source": [
        "Как показано в предыдущем примере, криптографические хеш-функции не помогли установить связь между образцами, тогда как метод нечеткого хеширования выявил сходство. \n",
        "\n",
        "Можно запустить ```ssdeep``` для каталогов и подкаталогов, содержащих вредоносные образцы, используя рекурсивный режим (```-r```):"
      ]
    },
    {
      "cell_type": "code",
      "execution_count": null,
      "metadata": {
        "id": "RzdvKwLFxrXi",
        "colab": {
          "base_uri": "https://localhost:8080/"
        },
        "outputId": "9f56bf80-abb1-4886-b9b7-da7cf717b7ec"
      },
      "outputs": [
        {
          "output_type": "stream",
          "name": "stdout",
          "text": [
            "samples//test_03 matches samples//main_03.c (0)\n",
            "samples//test_03 matches samples//task-1.exe (0)\n",
            "samples//test_03 matches samples//test (0)\n",
            "samples//test_03 matches samples//v_01.txt (0)\n",
            "samples//test_03 matches samples//main_01.c (0)\n",
            "samples//test_03 matches samples//Makefile (0)\n",
            "samples//test_03 matches samples//all_hashes.txt (0)\n",
            "samples//test_03 matches samples//test_02 (93)\n",
            "samples//test_03 matches samples//test_01 (0)\n",
            "samples//test_03 matches samples//main_02.c (0)\n",
            "\n",
            "samples//main_03.c matches samples//test_03 (0)\n",
            "samples//main_03.c matches samples//task-1.exe (0)\n",
            "samples//main_03.c matches samples//test (0)\n",
            "samples//main_03.c matches samples//v_01.txt (0)\n",
            "samples//main_03.c matches samples//main_01.c (19)\n",
            "samples//main_03.c matches samples//Makefile (0)\n",
            "samples//main_03.c matches samples//all_hashes.txt (0)\n",
            "samples//main_03.c matches samples//test_02 (0)\n",
            "samples//main_03.c matches samples//test_01 (0)\n",
            "samples//main_03.c matches samples//main_02.c (19)\n",
            "\n",
            "samples//task-1.exe matches samples//test_03 (0)\n",
            "samples//task-1.exe matches samples//main_03.c (0)\n",
            "samples//task-1.exe matches samples//test (0)\n",
            "samples//task-1.exe matches samples//v_01.txt (0)\n",
            "samples//task-1.exe matches samples//main_01.c (0)\n",
            "samples//task-1.exe matches samples//Makefile (0)\n",
            "samples//task-1.exe matches samples//all_hashes.txt (0)\n",
            "samples//task-1.exe matches samples//test_02 (0)\n",
            "samples//task-1.exe matches samples//test_01 (0)\n",
            "samples//task-1.exe matches samples//main_02.c (0)\n",
            "\n",
            "samples//test matches samples//test_03 (0)\n",
            "samples//test matches samples//main_03.c (0)\n",
            "samples//test matches samples//task-1.exe (0)\n",
            "samples//test matches samples//v_01.txt (0)\n",
            "samples//test matches samples//main_01.c (0)\n",
            "samples//test matches samples//Makefile (0)\n",
            "samples//test matches samples//all_hashes.txt (0)\n",
            "samples//test matches samples//test_02 (0)\n",
            "samples//test matches samples//test_01 (88)\n",
            "samples//test matches samples//main_02.c (0)\n",
            "\n",
            "samples//v_01.txt matches samples//test_03 (0)\n",
            "samples//v_01.txt matches samples//main_03.c (0)\n",
            "samples//v_01.txt matches samples//task-1.exe (0)\n",
            "samples//v_01.txt matches samples//test (0)\n",
            "samples//v_01.txt matches samples//main_01.c (0)\n",
            "samples//v_01.txt matches samples//Makefile (0)\n",
            "samples//v_01.txt matches samples//all_hashes.txt (0)\n",
            "samples//v_01.txt matches samples//test_02 (0)\n",
            "samples//v_01.txt matches samples//test_01 (0)\n",
            "samples//v_01.txt matches samples//main_02.c (0)\n",
            "\n",
            "samples//main_01.c matches samples//test_03 (0)\n",
            "samples//main_01.c matches samples//main_03.c (19)\n",
            "samples//main_01.c matches samples//task-1.exe (0)\n",
            "samples//main_01.c matches samples//test (0)\n",
            "samples//main_01.c matches samples//v_01.txt (0)\n",
            "samples//main_01.c matches samples//Makefile (0)\n",
            "samples//main_01.c matches samples//all_hashes.txt (0)\n",
            "samples//main_01.c matches samples//test_02 (0)\n",
            "samples//main_01.c matches samples//test_01 (0)\n",
            "samples//main_01.c matches samples//main_02.c (21)\n",
            "\n",
            "samples//Makefile matches samples//test_03 (0)\n",
            "samples//Makefile matches samples//main_03.c (0)\n",
            "samples//Makefile matches samples//task-1.exe (0)\n",
            "samples//Makefile matches samples//test (0)\n",
            "samples//Makefile matches samples//v_01.txt (0)\n",
            "samples//Makefile matches samples//main_01.c (0)\n",
            "samples//Makefile matches samples//all_hashes.txt (0)\n",
            "samples//Makefile matches samples//test_02 (0)\n",
            "samples//Makefile matches samples//test_01 (0)\n",
            "samples//Makefile matches samples//main_02.c (0)\n",
            "\n",
            "samples//all_hashes.txt matches samples//test_03 (0)\n",
            "samples//all_hashes.txt matches samples//main_03.c (0)\n",
            "samples//all_hashes.txt matches samples//task-1.exe (0)\n",
            "samples//all_hashes.txt matches samples//test (0)\n",
            "samples//all_hashes.txt matches samples//v_01.txt (0)\n",
            "samples//all_hashes.txt matches samples//main_01.c (0)\n",
            "samples//all_hashes.txt matches samples//Makefile (0)\n",
            "samples//all_hashes.txt matches samples//test_02 (0)\n",
            "samples//all_hashes.txt matches samples//test_01 (0)\n",
            "samples//all_hashes.txt matches samples//main_02.c (0)\n",
            "\n",
            "samples//test_02 matches samples//test_03 (93)\n",
            "samples//test_02 matches samples//main_03.c (0)\n",
            "samples//test_02 matches samples//task-1.exe (0)\n",
            "samples//test_02 matches samples//test (0)\n",
            "samples//test_02 matches samples//v_01.txt (0)\n",
            "samples//test_02 matches samples//main_01.c (0)\n",
            "samples//test_02 matches samples//Makefile (0)\n",
            "samples//test_02 matches samples//all_hashes.txt (0)\n",
            "samples//test_02 matches samples//test_01 (0)\n",
            "samples//test_02 matches samples//main_02.c (0)\n",
            "\n",
            "samples//test_01 matches samples//test_03 (0)\n",
            "samples//test_01 matches samples//main_03.c (0)\n",
            "samples//test_01 matches samples//task-1.exe (0)\n",
            "samples//test_01 matches samples//test (88)\n",
            "samples//test_01 matches samples//v_01.txt (0)\n",
            "samples//test_01 matches samples//main_01.c (0)\n",
            "samples//test_01 matches samples//Makefile (0)\n",
            "samples//test_01 matches samples//all_hashes.txt (0)\n",
            "samples//test_01 matches samples//test_02 (0)\n",
            "samples//test_01 matches samples//main_02.c (0)\n",
            "\n",
            "samples//main_02.c matches samples//test_03 (0)\n",
            "samples//main_02.c matches samples//main_03.c (19)\n",
            "samples//main_02.c matches samples//task-1.exe (0)\n",
            "samples//main_02.c matches samples//test (0)\n",
            "samples//main_02.c matches samples//v_01.txt (0)\n",
            "samples//main_02.c matches samples//main_01.c (21)\n",
            "samples//main_02.c matches samples//Makefile (0)\n",
            "samples//main_02.c matches samples//all_hashes.txt (0)\n",
            "samples//main_02.c matches samples//test_02 (0)\n",
            "samples//main_02.c matches samples//test_01 (0)\n",
            "\n"
          ]
        }
      ],
      "source": [
        "!ssdeep -lrpa samples/"
      ]
    },
    {
      "cell_type": "markdown",
      "metadata": {
        "id": "1NE8IgGmxrXj"
      },
      "source": [
        "В следующем примере ssdeep-хеши всех файлов были перенаправлены в текстовый файл (```all_hashes.txt```), а затем подозрительный файл (```test_03```) сопоставляется со всеми хешами в файле: "
      ]
    },
    {
      "cell_type": "code",
      "execution_count": null,
      "metadata": {
        "id": "ZzHNAHk4xrXj"
      },
      "outputs": [],
      "source": [
        "!ssdeep samples/test_01 samples/test_02 samples/test_03 > samples/all_hashes.txt"
      ]
    },
    {
      "cell_type": "code",
      "execution_count": null,
      "metadata": {
        "id": "-yNd0N1pxrXl",
        "outputId": "1537e772-ce72-4222-815e-1e3acfd6eb66",
        "colab": {
          "base_uri": "https://localhost:8080/"
        }
      },
      "outputs": [
        {
          "output_type": "stream",
          "name": "stdout",
          "text": [
            "ssdeep,1.1--blocksize:hash:hash,filename\n",
            "96:RZTWB6WBilMGIlZIpMRiUHs9ga7fNuB3eoBqSitrqN:RZ6oWQMZMpLrI4osSi,\"/content/samples/test_01\"\n",
            "96:RIXTekB6WBn+ZZS9+MRSM8vKk7fAuBWeoBqSAXLgj:RIX9oWgZS9+bz7xosSA,\"/content/samples/test_02\"\n",
            "96:RIXTtB6WBn+ZZSg+MRSM8vKk7fXuBWeoBqSAXLgj:RIXRoWgZSg+bzyxosSA,\"/content/samples/test_03\"\n"
          ]
        }
      ],
      "source": [
        "!cat samples/all_hashes.txt"
      ]
    },
    {
      "cell_type": "markdown",
      "metadata": {
        "id": "Sw_I7MRixrXl"
      },
      "source": [
        "В следующем фрагменте кода видно, что подозрительный файл (```test_03```) идентичен ```test_03``` (соответствие – 100%) и имеет сходство 93% с ```test_02```. Можно использовать этот метод для сравнения любого нового файла с хешами ранее проанализированных образцов:"
      ]
    },
    {
      "cell_type": "code",
      "execution_count": null,
      "metadata": {
        "id": "FblCaOOIxrXl",
        "outputId": "5ce509c2-8d56-4178-c427-9850282b3260",
        "colab": {
          "base_uri": "https://localhost:8080/"
        }
      },
      "outputs": [
        {
          "output_type": "stream",
          "name": "stdout",
          "text": [
            "/content/samples/test_03 matches samples/all_hashes.txt:/content/samples/test_02 (93)\n",
            "/content/samples/test_03 matches samples/all_hashes.txt:/content/samples/test_03 (100)\n"
          ]
        }
      ],
      "source": [
        "!ssdeep -m samples/all_hashes.txt samples/test_03"
      ]
    },
    {
      "cell_type": "markdown",
      "metadata": {
        "id": "fsiqLk9nxrXm"
      },
      "source": [
        "В Python нечеткий хеш может быть вычислен с использованием ```python-ssdeep```:"
      ]
    },
    {
      "cell_type": "code",
      "execution_count": null,
      "metadata": {
        "id": "qJX2qaoPxrXn"
      },
      "outputs": [],
      "source": [
        "!pip3 install ssdeep"
      ]
    },
    {
      "cell_type": "code",
      "execution_count": null,
      "metadata": {
        "id": "SVCeWgnrxrXn",
        "outputId": "73f3595e-849b-4579-b7ac-f09eb9964737",
        "colab": {
          "base_uri": "https://localhost:8080/"
        }
      },
      "outputs": [
        {
          "output_type": "stream",
          "name": "stdout",
          "text": [
            "96:RIXTtB6WBn+ZZSg+MRSM8vKk7fXuBWeoBqSAXLgj:RIXRoWgZSg+bzyxosSA\n"
          ]
        }
      ],
      "source": [
        "import ssdeep\n",
        "hash1 = ssdeep.hash_from_file('samples/test_03')\n",
        "print(hash1)"
      ]
    },
    {
      "cell_type": "code",
      "execution_count": null,
      "metadata": {
        "id": "Zu_yUO1VxrXn",
        "outputId": "2a94af83-d8b6-4b58-8de3-3ce115fb936a",
        "colab": {
          "base_uri": "https://localhost:8080/"
        }
      },
      "outputs": [
        {
          "output_type": "stream",
          "name": "stdout",
          "text": [
            "96:RIXTekB6WBn+ZZS9+MRSM8vKk7fAuBWeoBqSAXLgj:RIX9oWgZS9+bz7xosSA\n"
          ]
        }
      ],
      "source": [
        "hash2 = ssdeep.hash_from_file('samples/test_02')\n",
        "print(hash2)"
      ]
    },
    {
      "cell_type": "code",
      "execution_count": null,
      "metadata": {
        "id": "qNtBjWIUxrXo",
        "outputId": "e4ba609c-9b12-4c73-ead7-2a01c2870308",
        "colab": {
          "base_uri": "https://localhost:8080/"
        }
      },
      "outputs": [
        {
          "output_type": "execute_result",
          "data": {
            "text/plain": [
              "93"
            ]
          },
          "metadata": {},
          "execution_count": 18
        }
      ],
      "source": [
        "ssdeep.compare(hash1, hash2)"
      ]
    },
    {
      "cell_type": "code",
      "execution_count": null,
      "metadata": {
        "id": "WIxIjywnxrXo"
      },
      "outputs": [],
      "source": []
    }
  ],
  "metadata": {
    "kernelspec": {
      "display_name": "Python 3",
      "language": "python",
      "name": "python3"
    },
    "language_info": {
      "codemirror_mode": {
        "name": "ipython",
        "version": 3
      },
      "file_extension": ".py",
      "mimetype": "text/x-python",
      "name": "python",
      "nbconvert_exporter": "python",
      "pygments_lexer": "ipython3",
      "version": "3.7.3"
    },
    "colab": {
      "provenance": []
    }
  },
  "nbformat": 4,
  "nbformat_minor": 0
}